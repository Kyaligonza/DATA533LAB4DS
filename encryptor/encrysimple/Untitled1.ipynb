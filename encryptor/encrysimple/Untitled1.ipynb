{
 "cells": [
  {
   "cell_type": "code",
   "execution_count": 51,
   "metadata": {},
   "outputs": [
    {
     "name": "stdout",
     "output_type": "stream",
     "text": [
      "first\n",
      "attribute error\n",
      "Finish\n"
     ]
    }
   ],
   "source": [
    "\n",
    "class Mirror:\n",
    "    def __init__(self,text):\n",
    "        try: \n",
    "            self.text = text\n",
    "\n",
    "            if len(str(text)) <1:\n",
    "                \n",
    "                raise ValueError\n",
    "        except ValueError:\n",
    "            print(\"This is empty\")\n",
    "        else:\n",
    "            pass\n",
    "        finally:\n",
    "            print('first')\n",
    "          \n",
    "    def text_revmirror(self):\n",
    "        try:\n",
    "            words = self.text.split()\n",
    "            text_rev1 = \" \".join(reversed(words))\n",
    "            return text_rev1\n",
    "        except AttributeError:\n",
    "            print(\"attribute error\")\n",
    "        else:\n",
    "            pass\n",
    "        finally:\n",
    "            print('Finish')\n",
    "       \n",
    "p=Mirror(3)\n",
    "p.text_revmirror()"
   ]
  },
  {
   "cell_type": "code",
   "execution_count": null,
   "metadata": {},
   "outputs": [],
   "source": []
  }
 ],
 "metadata": {
  "kernelspec": {
   "display_name": "Python 3",
   "language": "python",
   "name": "python3"
  },
  "language_info": {
   "codemirror_mode": {
    "name": "ipython",
    "version": 3
   },
   "file_extension": ".py",
   "mimetype": "text/x-python",
   "name": "python",
   "nbconvert_exporter": "python",
   "pygments_lexer": "ipython3",
   "version": "3.6.5"
  }
 },
 "nbformat": 4,
 "nbformat_minor": 2
}
