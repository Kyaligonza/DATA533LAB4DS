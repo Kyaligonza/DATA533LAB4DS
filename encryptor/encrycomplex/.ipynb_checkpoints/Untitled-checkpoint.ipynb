{
 "cells": [
  {
   "cell_type": "code",
   "execution_count": 26,
   "metadata": {},
   "outputs": [],
   "source": [
    "try:\n",
    "    import random\n",
    "except ImportError:\n",
    "    Print(\"The import function did not work!!\")\n",
    "class Suben:\n",
    "    def __init__(self,text,key):\n",
    "        self.text = text\n",
    "        self.key = key\n",
    "        \n",
    "class Encr(Suben):\n",
    "    def __init__(self,text,key):\n",
    "        try:\n",
    "            Suben.__init__(self,text,key)\n",
    "            self.e = ''\n",
    "            for c in text :\n",
    "                if ord(c) != 32:\n",
    "                    if ord(c) == 122 :\n",
    "                        self.e += 'a'\n",
    "                    else :\n",
    "                        self.e += chr(ord(c)+key)\n",
    "                elif ord(c) == 32:\n",
    "                    self.e += ' '\n",
    "        except TypeError:\n",
    "            print(\"Pass a string in the first argument!!\")\n",
    "        else:\n",
    "            print(\"Successful!!!\")\n",
    "    def display(self):\n",
    "        return self.e\n",
    "    \n",
    "class Decr(Suben):\n",
    "    def __init__(self,text,key):\n",
    "        try:\n",
    "            Suben.__init__(self,text,key)\n",
    "            self.e = ''\n",
    "            for c in text :\n",
    "                if ord(c) != 32:\n",
    "                    if ord(c) == 122 :\n",
    "                        self.e += 'a'\n",
    "                    else :\n",
    "                        self.e += chr(ord(c)-key)\n",
    "                elif ord(c) == 32:\n",
    "                    self.e += ' '\n",
    "        except TypeError:\n",
    "            print(\"Pass a string in the first argument!!\")\n",
    "        else:\n",
    "            print(\"Successful!!!\")   \n",
    "    def display(self):\n",
    "        return self.e"
   ]
  },
  {
   "cell_type": "code",
   "execution_count": 31,
   "metadata": {},
   "outputs": [
    {
     "ename": "NameError",
     "evalue": "name 'q' is not defined",
     "output_type": "error",
     "traceback": [
      "\u001b[0;31m---------------------------------------------------------------------------\u001b[0m",
      "\u001b[0;31mNameError\u001b[0m                                 Traceback (most recent call last)",
      "\u001b[0;32m<ipython-input-31-906bb4b3204c>\u001b[0m in \u001b[0;36m<module>\u001b[0;34m()\u001b[0m\n\u001b[0;32m----> 1\u001b[0;31m \u001b[0me\u001b[0m \u001b[0;34m=\u001b[0m \u001b[0mEncr\u001b[0m\u001b[0;34m(\u001b[0m\u001b[0;34m'2'\u001b[0m\u001b[0;34m,\u001b[0m\u001b[0mq\u001b[0m\u001b[0;34m)\u001b[0m\u001b[0;34m\u001b[0m\u001b[0m\n\u001b[0m",
      "\u001b[0;31mNameError\u001b[0m: name 'q' is not defined"
     ]
    }
   ],
   "source": [
    "e = Encr('2',q)"
   ]
  },
  {
   "cell_type": "code",
   "execution_count": 30,
   "metadata": {},
   "outputs": [
    {
     "data": {
      "text/plain": [
       "'4'"
      ]
     },
     "execution_count": 30,
     "metadata": {},
     "output_type": "execute_result"
    }
   ],
   "source": [
    "e.display()"
   ]
  },
  {
   "cell_type": "code",
   "execution_count": null,
   "metadata": {},
   "outputs": [],
   "source": []
  }
 ],
 "metadata": {
  "kernelspec": {
   "display_name": "Python 3",
   "language": "python",
   "name": "python3"
  },
  "language_info": {
   "codemirror_mode": {
    "name": "ipython",
    "version": 3
   },
   "file_extension": ".py",
   "mimetype": "text/x-python",
   "name": "python",
   "nbconvert_exporter": "python",
   "pygments_lexer": "ipython3",
   "version": "3.6.5"
  }
 },
 "nbformat": 4,
 "nbformat_minor": 2
}
